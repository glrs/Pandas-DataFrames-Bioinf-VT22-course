{
 "cells": [
  {
   "cell_type": "markdown",
   "metadata": {},
   "source": [
    "# Read & Write Data Files"
   ]
  },
  {
   "cell_type": "code",
   "execution_count": null,
   "metadata": {},
   "outputs": [],
   "source": [
    "# Import Pandas\n",
    "import pandas as pd"
   ]
  },
  {
   "cell_type": "markdown",
   "metadata": {},
   "source": [
    "<br>\n",
    "\n",
    "## Note:\n",
    "#### In this Notebook we will use the following Datafiles:\n",
    "* iris.csv\n",
    "* boston_houses.tsv\n",
    "* wine.csv\n",
    "* u.user\n",
    "* titanic.xls\n",
    "* pokemon.csv\n",
    "\n",
    "#### Make sure to place them in the same folder as this Notebook. Otherwise, you will have to adjust the paths accordingly."
   ]
  },
  {
   "cell_type": "markdown",
   "metadata": {},
   "source": [
    "---\n",
    "# Read Files (the Pandas way)"
   ]
  },
  {
   "cell_type": "markdown",
   "metadata": {
    "cell_style": "center"
   },
   "source": [
    "## Load Data from Text files\n",
    "__Two common text file formats are:__\n",
    "* __CSV:__ Comma-Separated Values\n",
    "* __TSV:__ Tab-Separated Values\n",
    "\n",
    "<br>\n",
    "\n",
    "__Common Pandas methods to create DataFrames from text files:__\n",
    "* `read_csv()`: Defaults to reading CSVs\n",
    "* `read_table()`: Defaults to reading TSVs\n",
    "\n",
    "__Note:__ They are wrappers of the same underline funtion, so they can be used interchangeably by setting the right parameters."
   ]
  },
  {
   "cell_type": "markdown",
   "metadata": {},
   "source": [
    "### 1. Load data from a CSV file\n",
    "\n",
    "We will use the __Iris__ dataset (`iris.csv`). First, let's see how the file looks:"
   ]
  },
  {
   "cell_type": "code",
   "execution_count": null,
   "metadata": {},
   "outputs": [],
   "source": [
    "less iris.csv"
   ]
  },
  {
   "cell_type": "code",
   "execution_count": null,
   "metadata": {},
   "outputs": [],
   "source": [
    "# Path to the Iris data file\n",
    "iris_fp = 'iris.csv'"
   ]
  },
  {
   "cell_type": "code",
   "execution_count": null,
   "metadata": {},
   "outputs": [],
   "source": [
    "# Let's load the Iris dataset into a Pandas DataFrame\n",
    "\n"
   ]
  },
  {
   "cell_type": "code",
   "execution_count": null,
   "metadata": {},
   "outputs": [],
   "source": [
    "# Now let's use .read_table() to load iris.csv\n",
    "\n"
   ]
  },
  {
   "cell_type": "markdown",
   "metadata": {},
   "source": [
    "### 2. Load data from a TSV file"
   ]
  },
  {
   "cell_type": "markdown",
   "metadata": {},
   "source": [
    "We will use the __Boston Housing__ dataset (`boston_houses.tsv`). First, let's see how it looks:"
   ]
  },
  {
   "cell_type": "code",
   "execution_count": null,
   "metadata": {},
   "outputs": [],
   "source": [
    "less boston_houses.tsv"
   ]
  },
  {
   "cell_type": "code",
   "execution_count": null,
   "metadata": {},
   "outputs": [],
   "source": [
    "# Path to the Boston data file\n",
    "boston_fp = 'boston_houses.tsv'"
   ]
  },
  {
   "cell_type": "code",
   "execution_count": null,
   "metadata": {},
   "outputs": [],
   "source": [
    "# Load the boston_houses.tsv - using .read_table()\n",
    "\n"
   ]
  },
  {
   "cell_type": "code",
   "execution_count": null,
   "metadata": {},
   "outputs": [],
   "source": [
    "# Load the boston_houses.tsv - using .read_csv()\n",
    "\n"
   ]
  },
  {
   "cell_type": "markdown",
   "metadata": {
    "cell_style": "center"
   },
   "source": [
    "<br>\n",
    "\n",
    "### 3. Load files with misleading extension\n",
    "\n",
    "File extensions (__.csv__, __.tsv__, __.txt__, etc.) are just a convention.\n",
    "\n",
    "<br>\n",
    "\n",
    "__Disclaimer!__ Not everyone will follow the conventions!\n",
    "\n",
    "<br><br>\n",
    "\n",
    "We will use the __Wine__ dataset (`wine.csv`).\n",
    "\n",
    "First, let's see how it looks:"
   ]
  },
  {
   "cell_type": "code",
   "execution_count": null,
   "metadata": {},
   "outputs": [],
   "source": [
    "less wine.csv"
   ]
  },
  {
   "cell_type": "code",
   "execution_count": null,
   "metadata": {},
   "outputs": [],
   "source": [
    "# Path to the wine data file\n",
    "wine_fp = \"wine.csv\""
   ]
  },
  {
   "cell_type": "code",
   "execution_count": null,
   "metadata": {},
   "outputs": [],
   "source": [
    "# Load the wine file using .read_csv\n",
    "\n"
   ]
  },
  {
   "cell_type": "markdown",
   "metadata": {},
   "source": [
    "### 4. Load text file with unknown extension\n",
    "\n",
    "* Files can have any extension (yes! you can create your own)\n",
    "* Files can lack extension (Windows do not like that)\n",
    "\n",
    "\n",
    "__Example:__ Load a text file with a non-conventional extension. Let's see it first:"
   ]
  },
  {
   "cell_type": "code",
   "execution_count": null,
   "metadata": {},
   "outputs": [],
   "source": [
    "less datasets/u.user"
   ]
  },
  {
   "cell_type": "code",
   "execution_count": null,
   "metadata": {},
   "outputs": [],
   "source": [
    "# Path of the u.user file\n",
    "user_fp = 'u.user'"
   ]
  },
  {
   "cell_type": "code",
   "execution_count": null,
   "metadata": {},
   "outputs": [],
   "source": [
    "# Load the file with .read_csv()\n",
    "\n"
   ]
  },
  {
   "cell_type": "markdown",
   "metadata": {},
   "source": [
    "## Load Data from Excel files\n",
    "\n",
    "__Python Method:__ `.read_excel()`\n",
    "\n",
    "__Supported Formats:__ __xls, xlsx, xlsm, xlsb, odf, ods__ and __odt__\n",
    "\n",
    "<br>\n",
    "\n",
    "__Note:__ If you get an error (like the one below), you might be missing some dependencies.\n",
    "\n",
    "__Error Message:__ `ImportError: Missing optional dependency 'xlrd'. Install xlrd >= 1.0.0 for Excel support ...`"
   ]
  },
  {
   "cell_type": "code",
   "execution_count": null,
   "metadata": {},
   "outputs": [],
   "source": [
    "# Path to the Excel file\n",
    "dataset = 'titanic.xls'\n",
    "\n",
    "# Load data from the Excel file\n",
    "\n"
   ]
  },
  {
   "cell_type": "markdown",
   "metadata": {},
   "source": [
    "---\n",
    "# Slightly more advanced topics\n",
    "\n"
   ]
  },
  {
   "cell_type": "markdown",
   "metadata": {},
   "source": [
    "# Write CSV Data\n",
    "\n",
    "Many times when you manipulate your DataFrames, you would want to save your progress in a file.\n",
    "\n",
    "__Python Method:__ `.to_csv()`"
   ]
  },
  {
   "cell_type": "code",
   "execution_count": null,
   "metadata": {},
   "outputs": [],
   "source": [
    "# Remember Iris dataset\n",
    "iris"
   ]
  },
  {
   "cell_type": "code",
   "execution_count": null,
   "metadata": {},
   "outputs": [],
   "source": [
    "# Let's write it into a new file - with and w/o index\n",
    "\n"
   ]
  },
  {
   "cell_type": "markdown",
   "metadata": {},
   "source": [
    "---\n",
    "# Working with large amounts of data"
   ]
  },
  {
   "cell_type": "markdown",
   "metadata": {
    "cell_style": "split"
   },
   "source": [
    "\n",
    "__At some point you will deal with a file bigger than your RAM.__\n",
    "\n",
    "* Imagine you get a __20GB__ data file.\n",
    "* Imagine your computer's RAM is __8GB__.\n",
    "\n",
    "<br>\n",
    "\n",
    "Now what?\n",
    "\n",
    "<br>\n",
    "\n",
    "No need to ask for a new computer just yet!\n",
    "\n",
    "<br>\n",
    "\n",
    "We will load the data in __chunks__."
   ]
  },
  {
   "cell_type": "code",
   "execution_count": null,
   "metadata": {},
   "outputs": [],
   "source": [
    "# Load the wine dataset in chunks (using a for-loop and chunksize)\n",
    "\n"
   ]
  },
  {
   "cell_type": "markdown",
   "metadata": {},
   "source": [
    "## Other functions when reading data\n",
    "\n",
    "There are way too many options with `.read_csv()`"
   ]
  },
  {
   "cell_type": "code",
   "execution_count": null,
   "metadata": {},
   "outputs": [],
   "source": [
    "# Have a look in the documentation\n",
    "pd.read_csv?"
   ]
  },
  {
   "cell_type": "code",
   "execution_count": null,
   "metadata": {},
   "outputs": [],
   "source": [
    "# Medium difficulty: header, skiprows, nrows, index_col\n",
    "\n",
    "pd.read_csv('pokemon.csv', skiprows=5)"
   ]
  },
  {
   "cell_type": "code",
   "execution_count": null,
   "metadata": {},
   "outputs": [],
   "source": []
  },
  {
   "cell_type": "code",
   "execution_count": null,
   "metadata": {},
   "outputs": [],
   "source": []
  },
  {
   "cell_type": "code",
   "execution_count": null,
   "metadata": {},
   "outputs": [],
   "source": []
  },
  {
   "cell_type": "code",
   "execution_count": null,
   "metadata": {},
   "outputs": [],
   "source": []
  }
 ],
 "metadata": {
  "kernelspec": {
   "display_name": "Python 3 (ipykernel)",
   "language": "python",
   "name": "python3"
  },
  "language_info": {
   "codemirror_mode": {
    "name": "ipython",
    "version": 3
   },
   "file_extension": ".py",
   "mimetype": "text/x-python",
   "name": "python",
   "nbconvert_exporter": "python",
   "pygments_lexer": "ipython3",
   "version": "3.9.7"
  }
 },
 "nbformat": 4,
 "nbformat_minor": 4
}
