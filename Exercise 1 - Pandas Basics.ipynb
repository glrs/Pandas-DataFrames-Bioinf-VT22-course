{
 "cells": [
  {
   "cell_type": "markdown",
   "metadata": {},
   "source": [
    "# Pandas Basics Recap"
   ]
  },
  {
   "cell_type": "markdown",
   "metadata": {},
   "source": [
    "## 1. Import the Pandas Library\n",
    "\n",
    "Import Pandas (as __pd__) to your Jupyter Notebook."
   ]
  },
  {
   "cell_type": "code",
   "execution_count": null,
   "metadata": {},
   "outputs": [],
   "source": [
    "# Import Pandas as pd\n"
   ]
  },
  {
   "cell_type": "markdown",
   "metadata": {},
   "source": [
    "---\n",
    "# Series Exercises\n",
    "\n",
    "\n",
    "## 2. Create a Pandas Series from a given list\n",
    "\n",
    "Below you are given a list of temperatures.\n",
    "\n",
    "__Objective:__ Create a Pandas Series using the `temperature` list."
   ]
  },
  {
   "cell_type": "code",
   "execution_count": null,
   "metadata": {},
   "outputs": [],
   "source": [
    "# Temperature list\n",
    "temperature = [ 23, 21, 15, 20, 11, 14, 6, 2, 8, 14 ]\n",
    "\n",
    "# Create the Series object below\n",
    "temp = \n",
    "\n",
    "# Print the result\n"
   ]
  },
  {
   "cell_type": "markdown",
   "metadata": {},
   "source": [
    "### 2.1 Give a name to the Series object you just created\n",
    "\n",
    "__Objective:__ Give the name __'Temperature'__ to the Series object __`temp`__, that you created above."
   ]
  },
  {
   "cell_type": "code",
   "execution_count": null,
   "metadata": {},
   "outputs": [],
   "source": [
    "# Hint! The Series objects have an attribute called `name`\n",
    "\n"
   ]
  },
  {
   "cell_type": "markdown",
   "metadata": {},
   "source": [
    "---\n",
    "## 3. Create a Pandas Series from a given dictionary\n",
    "\n",
    "Below you are given a dictionary of humidity values.\n",
    "\n",
    "__Objective:__ Create a Pandas Series using the `humidity` dictionary. Give it the name __'Humidity'__ upon creation."
   ]
  },
  {
   "cell_type": "code",
   "execution_count": null,
   "metadata": {},
   "outputs": [],
   "source": [
    "# Humidity dictionary\n",
    "humidity = { 'a':62, 'b':60, 'c':57, 'd':58, 'e':56, 'f':55, 'g':57, 'h':53, 'i':55, 'j':54 }\n",
    "\n",
    "# Create the Series object below, and give it a name\n",
    "# Hint! The Series constructor has a parameter called 'name='\n",
    "hum = \n",
    "\n",
    "# Print the result\n"
   ]
  },
  {
   "cell_type": "markdown",
   "metadata": {},
   "source": [
    "### 3.1 Set a new Index to the Series object\n",
    "\n",
    "__Objective:__ Change the index of the `hum` Series object, from `a,b,c,...,j` to `0,1,2,3,...,9`\n",
    "\n",
    "__Note:__ The new index list is provided in `new_index`."
   ]
  },
  {
   "cell_type": "code",
   "execution_count": null,
   "metadata": {},
   "outputs": [],
   "source": [
    "# The new index list to use\n",
    "new_index = [0, 1, 2, 3, 4, 5, 6, 7, 8, 9]\n",
    "\n",
    "# Hint! The Series objects have an attibute called 'index'\n",
    "\n"
   ]
  },
  {
   "cell_type": "markdown",
   "metadata": {},
   "source": [
    "---\n",
    "# DataFrame Exercises\n",
    "\n",
    "## 4. Create a DataFrame from Series\n",
    "__Objective:__ Create a DataFrame using the two Series we created above in steps __2__ and __3__. Let's call it `climate`.\n",
    "\n",
    "__Note:__ You can use __any__ of the 3 methods we learned earlier:\n",
    "* Using a Series Dictionary\n",
    "* Using a Series List (and then Transpose)\n",
    "* Using the Pandas `.concat()` method"
   ]
  },
  {
   "cell_type": "code",
   "execution_count": null,
   "metadata": {},
   "outputs": [],
   "source": [
    "# Create the DataFrame below\n",
    "climate = "
   ]
  },
  {
   "cell_type": "markdown",
   "metadata": {},
   "source": [
    "### 4.1 Rename the Columns of the DataFrame\n",
    "\n",
    "__Objective:__ Change the current column names to __'Celsius'__ and __'RelativeHum'__."
   ]
  },
  {
   "cell_type": "code",
   "execution_count": null,
   "metadata": {},
   "outputs": [],
   "source": [
    "# Hint! The DataFrame objects have an attribute called 'columns'\n",
    "\n"
   ]
  },
  {
   "cell_type": "markdown",
   "metadata": {},
   "source": [
    "---\n",
    "# 5. Create a DataFrame based on the given Table\n",
    "\n",
    "__Replicate the following Table into a Pandas DataFrame.__\n",
    "\n",
    "|      | Coffee | Sugar |\n",
    "|------|-------------|----------|\n",
    "|__0__ | 75 | 25 |\n",
    "|__1__ | 60 | 40 |\n",
    "|__2__ | 100 | 0 |\n",
    "|__3__ | 40 | 60 |\n",
    "|__4__ | 55 | 45 |\n",
    "\n",
    "__Note:__ You can use any of the ways we learned, as long as you get the right result!"
   ]
  },
  {
   "cell_type": "code",
   "execution_count": null,
   "metadata": {},
   "outputs": [],
   "source": [
    "# Your code below\n",
    "\n"
   ]
  }
 ],
 "metadata": {
  "kernelspec": {
   "display_name": "Python 3 (ipykernel)",
   "language": "python",
   "name": "python3"
  },
  "language_info": {
   "codemirror_mode": {
    "name": "ipython",
    "version": 3
   },
   "file_extension": ".py",
   "mimetype": "text/x-python",
   "name": "python",
   "nbconvert_exporter": "python",
   "pygments_lexer": "ipython3",
   "version": "3.9.7"
  }
 },
 "nbformat": 4,
 "nbformat_minor": 4
}
