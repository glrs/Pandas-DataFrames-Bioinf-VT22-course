{
 "cells": [
  {
   "cell_type": "markdown",
   "metadata": {},
   "source": [
    "# Pandas DataFrames\n",
    "## Basic Bioinformatics Course VT22\n",
    "<br>"
   ]
  },
  {
   "cell_type": "markdown",
   "metadata": {},
   "source": [
    "<img src=\"https://storage.googleapis.com/lds-media/images/series-and-dataframe.width-1200.png\" alt=\"[]\" width=550>"
   ]
  },
  {
   "cell_type": "markdown",
   "metadata": {
    "slideshow": {
     "slide_type": "slide"
    }
   },
   "source": [
    "---\n",
    "# Quick Intro to Pandas Series"
   ]
  },
  {
   "cell_type": "code",
   "execution_count": null,
   "metadata": {
    "slideshow": {
     "slide_type": "-"
    }
   },
   "outputs": [],
   "source": [
    "# Import Pandas library\n"
   ]
  },
  {
   "cell_type": "code",
   "execution_count": null,
   "metadata": {},
   "outputs": [],
   "source": [
    "# Show Installed Pandas version\n"
   ]
  },
  {
   "cell_type": "code",
   "execution_count": null,
   "metadata": {
    "slideshow": {
     "slide_type": "-"
    }
   },
   "outputs": [],
   "source": [
    "# Create Series from list\n",
    "\n",
    "apple_list = [3, 2, 0, 1]\n",
    "\n"
   ]
  },
  {
   "cell_type": "code",
   "execution_count": null,
   "metadata": {},
   "outputs": [],
   "source": [
    "# Create Series from list - setting the name attribute\n",
    "\n",
    "orange_list = [0, 3, 7, 2]\n",
    "\n"
   ]
  },
  {
   "cell_type": "code",
   "execution_count": null,
   "metadata": {},
   "outputs": [],
   "source": [
    "# Set the name attribute\n",
    "\n"
   ]
  },
  {
   "cell_type": "code",
   "execution_count": null,
   "metadata": {
    "slideshow": {
     "slide_type": "slide"
    }
   },
   "outputs": [],
   "source": [
    "# Create Series from dictionary\n",
    "\n",
    "banana_dict = {'a':5.2, 'b':4, 'c':3.5, 'd':2}\n",
    "\n"
   ]
  },
  {
   "cell_type": "code",
   "execution_count": null,
   "metadata": {},
   "outputs": [],
   "source": [
    "# Set a new index\n",
    "\n"
   ]
  },
  {
   "cell_type": "markdown",
   "metadata": {
    "cell_style": "center"
   },
   "source": [
    "<br>\n",
    "\n",
    "## Pandas Documentation:\n",
    "__https://pandas.pydata.org/pandas-docs/stable/reference/index.html__\n",
    "\n",
    "<br>"
   ]
  },
  {
   "cell_type": "code",
   "execution_count": null,
   "metadata": {
    "slideshow": {
     "slide_type": "-"
    }
   },
   "outputs": [],
   "source": [
    "# Quick Documentation\n",
    "pd.Series?\n",
    "\n",
    "# -- Or --\n",
    "help(pd.Series)"
   ]
  },
  {
   "cell_type": "markdown",
   "metadata": {
    "slideshow": {
     "slide_type": "slide"
    }
   },
   "source": [
    "---\n",
    "# Introduction to Pandas DataFrames"
   ]
  },
  {
   "cell_type": "code",
   "execution_count": null,
   "metadata": {
    "slideshow": {
     "slide_type": "-"
    }
   },
   "outputs": [],
   "source": [
    "# DataFrame Quick Documentation\n"
   ]
  },
  {
   "cell_type": "markdown",
   "metadata": {},
   "source": [
    "## Create DataFrames from Lists"
   ]
  },
  {
   "cell_type": "code",
   "execution_count": null,
   "metadata": {
    "slideshow": {
     "slide_type": "-"
    }
   },
   "outputs": [],
   "source": [
    "# Let's use the apple_list\n",
    "print(apple_list)\n",
    "\n"
   ]
  },
  {
   "cell_type": "code",
   "execution_count": null,
   "metadata": {
    "slideshow": {
     "slide_type": "slide"
    }
   },
   "outputs": [],
   "source": [
    "# Create another one, providing index and columns\n",
    "\n",
    "print(orange_list)\n",
    "\n",
    "index_list = ['a', 'b', 'c', 'd']\n",
    "\n"
   ]
  },
  {
   "cell_type": "code",
   "execution_count": null,
   "metadata": {},
   "outputs": [],
   "source": [
    "# We can also use a list of lists\n",
    "\n",
    "print(\"Apples:\", apple_list, \"Oranges:\", orange_list)\n",
    "\n",
    "\n",
    "# A list that includes the Apple list and the Orange list\n",
    "fruit_list1 = [ [3, 2, 0, 1], [0, 3, 7, 2] ]\n",
    "\n",
    "# A list that includes several Apple-Orange pairs\n",
    "fruit_list2 = [ [3, 0], [2, 3], [0, 7], [1, 2] ]\n",
    "\n"
   ]
  },
  {
   "cell_type": "code",
   "execution_count": null,
   "metadata": {},
   "outputs": [],
   "source": [
    "# Add column names to the DataFrame\n",
    "\n",
    "# Column names to be added\n",
    "column_names = [\"Apples\", \"Oranges\"]\n",
    "\n"
   ]
  },
  {
   "cell_type": "markdown",
   "metadata": {},
   "source": [
    "## Create DataFrames from Dictionaries"
   ]
  },
  {
   "cell_type": "code",
   "execution_count": null,
   "metadata": {},
   "outputs": [],
   "source": [
    "# A dictionary with key the name of the fruit\n",
    "fruit_dict = { \"Apples\": [3, 2, 0, 1], \"Oranges\": [0, 3, 7, 2] }\n",
    "\n"
   ]
  },
  {
   "cell_type": "markdown",
   "metadata": {},
   "source": [
    "## Create DataFrames from Series"
   ]
  },
  {
   "cell_type": "code",
   "execution_count": null,
   "metadata": {},
   "outputs": [],
   "source": [
    "# Method 1 - Series Dictionary\n",
    "\n",
    "# Print our two fruit Series\n",
    "display(apples, oranges)\n",
    "\n",
    "# Create a dictionary of Series\n",
    "series_dict = { \"Apples\": apples, \"Oranges\": oranges }\n",
    "\n"
   ]
  },
  {
   "cell_type": "code",
   "execution_count": null,
   "metadata": {},
   "outputs": [],
   "source": [
    "# Method 2 - List of Series (Series as rows - Transpose to fix)\n",
    "\n",
    "series_list = [apples, oranges]\n",
    "\n"
   ]
  },
  {
   "cell_type": "code",
   "execution_count": null,
   "metadata": {
    "scrolled": true,
    "slideshow": {
     "slide_type": "slide"
    }
   },
   "outputs": [],
   "source": [
    "# Method 3 - Concatenating Series\n",
    "\n"
   ]
  },
  {
   "cell_type": "markdown",
   "metadata": {},
   "source": [
    "__Hint!__ You can use either of the following annotations for `axis`:\n",
    "* For Rows:&nbsp;&nbsp;&nbsp;&nbsp;&nbsp;&nbsp;`axis=0` or `axis='rows'`\n",
    "* For Columns: `axis=1` or `axis='columns'`\n",
    "\n",
    "<img src=\"https://i.stack.imgur.com/dcoE3.jpg\" alt=\"drawing\" width=\"400\" align=\"left\"/>"
   ]
  },
  {
   "cell_type": "markdown",
   "metadata": {},
   "source": [
    "---\n",
    "# Create a Pandas DataFrame from a given table"
   ]
  },
  {
   "cell_type": "markdown",
   "metadata": {},
   "source": [
    "__Can we create a Pandas DataFrame that looks like the following Table?__\n",
    "\n",
    "|      | Temperature | Humidity |\n",
    "|------|-------------|----------|\n",
    "|__0__ | 10 | 55 |\n",
    "|__1__ | 13 | 54 |\n",
    "|__2__ | 15 | 59 |\n",
    "|__3__ | 22 | 64 |\n",
    "|__4__ | 19 | 61 |\n"
   ]
  },
  {
   "cell_type": "code",
   "execution_count": null,
   "metadata": {},
   "outputs": [],
   "source": [
    "# We can create 2 Series and concatenate them into a DataFrame\n",
    "\n"
   ]
  },
  {
   "cell_type": "code",
   "execution_count": null,
   "metadata": {},
   "outputs": [],
   "source": [
    "# We can create the DataFrame straight away, using e.g. a dictionary\n",
    "\n"
   ]
  }
 ],
 "metadata": {
  "kernelspec": {
   "display_name": "Python 3 (ipykernel)",
   "language": "python",
   "name": "python3"
  },
  "language_info": {
   "codemirror_mode": {
    "name": "ipython",
    "version": 3
   },
   "file_extension": ".py",
   "mimetype": "text/x-python",
   "name": "python",
   "nbconvert_exporter": "python",
   "pygments_lexer": "ipython3",
   "version": "3.9.7"
  },
  "rise": {
   "enable_chalkboard": true
  }
 },
 "nbformat": 4,
 "nbformat_minor": 2
}
