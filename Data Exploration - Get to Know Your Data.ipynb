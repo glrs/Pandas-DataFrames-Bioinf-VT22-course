{
 "cells": [
  {
   "cell_type": "markdown",
   "metadata": {},
   "source": [
    "# Data Exploration - Get to Know Your Data\n",
    "__Objectives__:\n",
    "* Access and summarize data stored in a DataFrame.\n",
    "* Select subsets of a DataFrame (__data indexing/slicing__).\n",
    "\n",
    "---"
   ]
  },
  {
   "cell_type": "code",
   "execution_count": null,
   "metadata": {},
   "outputs": [],
   "source": [
    "import pandas as pd"
   ]
  },
  {
   "cell_type": "markdown",
   "metadata": {},
   "source": [
    "## Load Data into Pandas"
   ]
  },
  {
   "cell_type": "markdown",
   "metadata": {},
   "source": [
    "We will work with the __Iris__ dataset (`iris.csv`). Let's see how it looks like:\n",
    "\n",
    "__Note:__ Make sure the path is correct."
   ]
  },
  {
   "cell_type": "code",
   "execution_count": null,
   "metadata": {},
   "outputs": [],
   "source": [
    "less iris.csv"
   ]
  },
  {
   "cell_type": "code",
   "execution_count": null,
   "metadata": {},
   "outputs": [],
   "source": [
    "# Load from CSV (Comma Separated Values) file\n",
    "\n",
    "dataset = \"iris.csv\"\n",
    "\n"
   ]
  },
  {
   "cell_type": "markdown",
   "metadata": {},
   "source": [
    "---\n",
    "## Explore the Data"
   ]
  },
  {
   "cell_type": "markdown",
   "metadata": {},
   "source": [
    "### View the Data"
   ]
  },
  {
   "cell_type": "code",
   "execution_count": null,
   "metadata": {},
   "outputs": [],
   "source": [
    "# Show the first lines of our dataset\n",
    "\n"
   ]
  },
  {
   "cell_type": "code",
   "execution_count": null,
   "metadata": {},
   "outputs": [],
   "source": [
    "# Show the last lines of our dataset\n",
    "\n"
   ]
  },
  {
   "cell_type": "code",
   "execution_count": null,
   "metadata": {},
   "outputs": [],
   "source": [
    "# Show a random sample of our dataset (+ random state)\n",
    "\n"
   ]
  },
  {
   "cell_type": "code",
   "execution_count": null,
   "metadata": {},
   "outputs": [],
   "source": [
    "# Get the column names of our dataset\n",
    "\n"
   ]
  },
  {
   "cell_type": "code",
   "execution_count": null,
   "metadata": {},
   "outputs": [],
   "source": [
    "# Get the (row) index of our dataset\n",
    "\n"
   ]
  },
  {
   "cell_type": "code",
   "execution_count": null,
   "metadata": {},
   "outputs": [],
   "source": [
    "# Get all the values in our dataset in a Numpy array\n",
    "\n"
   ]
  },
  {
   "cell_type": "code",
   "execution_count": null,
   "metadata": {},
   "outputs": [],
   "source": [
    "# Show the shape of our dataset\n",
    "\n"
   ]
  },
  {
   "cell_type": "code",
   "execution_count": null,
   "metadata": {},
   "outputs": [],
   "source": [
    "# Show the size of our dataset\n",
    "\n"
   ]
  },
  {
   "cell_type": "code",
   "execution_count": null,
   "metadata": {},
   "outputs": [],
   "source": [
    "# Show the data types held in our dataset\n",
    "\n"
   ]
  },
  {
   "cell_type": "markdown",
   "metadata": {},
   "source": [
    "### Data High Level Description"
   ]
  },
  {
   "cell_type": "code",
   "execution_count": null,
   "metadata": {
    "scrolled": true
   },
   "outputs": [],
   "source": [
    "# Print information about our dataframe (size, non-null, data types, etc.)\n",
    "\n"
   ]
  },
  {
   "cell_type": "code",
   "execution_count": null,
   "metadata": {},
   "outputs": [],
   "source": [
    "# Print descriptive statistics of our dataset\n",
    "\n"
   ]
  },
  {
   "cell_type": "markdown",
   "metadata": {},
   "source": [
    "---\n",
    "# Data Subset Selection \n",
    "\n",
    "<b>Extracting smaller parts from our main dataset.</b>\n",
    "\n",
    "__We ofter use the terms:__\n",
    "* __Indexing:__ Selecting a singe element (row/column for DataFrames, or a value in Series) using its index.\n",
    "* __Slicing:__ Selecting a sequence of elements based on a slice*.\n",
    "\n",
    "\\* __Reminder:__ Slice syntax: `array[ start:stop ]` or `array[ start:stop:step ]`.\n",
    "\n",
    "__Example:__ Indexing and slicing"
   ]
  },
  {
   "cell_type": "code",
   "execution_count": null,
   "metadata": {},
   "outputs": [],
   "source": [
    "# Indexing Example\n",
    "\n"
   ]
  },
  {
   "cell_type": "code",
   "execution_count": null,
   "metadata": {},
   "outputs": [],
   "source": [
    "# Slicing Example\n",
    "\n"
   ]
  },
  {
   "cell_type": "markdown",
   "metadata": {
    "cell_style": "center"
   },
   "source": [
    "## Access Methods\n",
    "\n",
    "The __options__ we have __to select__ subsets.\n",
    "\n",
    "<br>\n",
    "\n",
    "__Our choices:__\n",
    "\n",
    "__1.__ Square-bracket notation - `[]`\n",
    "\n",
    "<br>\n",
    "\n",
    "__2.__ Attribute access (or dot notation) - `.`\n",
    "\n",
    "<br>\n",
    "\n",
    "__3.__ Selection by label - `.loc`\n",
    "\n",
    "<br>\n",
    "\n",
    "__4.__ Selection by position - `.iloc`\n",
    "\n",
    "<br>\n",
    "\n",
    "__Note:__ Pandas also has `.at` and `.iat`. We won't cover these.\n"
   ]
  },
  {
   "cell_type": "markdown",
   "metadata": {
    "cell_style": "center"
   },
   "source": [
    "### 1. Square-Bracket Notation\n",
    "You are already familiar with `[]` from __Python Basics__.\n",
    "\n",
    "This is how we use it if we have Series or DataFrames:\n",
    "\n",
    "Object Type | Selection\n",
    "-----|-----------|\n",
    "Series | `series[index]`\n",
    "DataFrame | `frame[colname]`"
   ]
  },
  {
   "cell_type": "markdown",
   "metadata": {},
   "source": [
    "__Pros:__\n",
    "* Easy and fast use\n",
    "* Python-wide (works with lists, tupples, dictionaries, etc.)\n",
    "\n",
    "__Cons:__\n",
    "* Can lead to confusion (implicitly assumes whether you mean, column or rows)\n",
    "* Limited functionality\n",
    "\n",
    "__Note:__ The `[]` is end-exclusive!\n",
    "\n",
    "__Example:__ Indexing and slicing with `[]`"
   ]
  },
  {
   "cell_type": "code",
   "execution_count": null,
   "metadata": {},
   "outputs": [],
   "source": [
    "# Select an Iris column, giving its column name\n",
    "\n"
   ]
  },
  {
   "cell_type": "code",
   "execution_count": 1,
   "metadata": {},
   "outputs": [],
   "source": [
    "# Select a subset of rows, providing a slice\n",
    "\n"
   ]
  },
  {
   "cell_type": "code",
   "execution_count": null,
   "metadata": {},
   "outputs": [],
   "source": [
    "# Avoid chain indexing\n",
    "\n"
   ]
  },
  {
   "cell_type": "markdown",
   "metadata": {},
   "source": [
    "## 2. Attribute Access (Dot notation)\n",
    "\n",
    "Allow us to access a (Series) index or a (DataFrame) column directly __as an attribute__ (e.g. `iris.sepallength`).\n",
    "\n",
    "__Pros:__\n",
    "* The easiest and fastest to use\n",
    "\n",
    "__Cons:__\n",
    "* Will not work if it conflicts with an existing method (e.g. `iris.size` is not allowed)\n",
    "* Will not work if it conflicts with Python keywords (e.g. `iris.class` is not allowed)\n",
    "* Will not work if there is a space in the column name (e.g. `iris.sepal length` is not allowed)\n",
    "* Will not work with integer labels (e.g. `iris.1` is not allowed)\n",
    "\n",
    "__Bottomline:__ It only works with valid Python identifiers (https://docs.python.org/3/reference/lexical_analysis.html#identifiers)\n",
    "\n",
    "__Example:__ Try to access the __Iris__ columns with dot notation"
   ]
  },
  {
   "cell_type": "code",
   "execution_count": null,
   "metadata": {},
   "outputs": [],
   "source": [
    "# Will all of them work?\n",
    "\n"
   ]
  },
  {
   "cell_type": "markdown",
   "metadata": {},
   "source": [
    "2 common ways to slice:\n",
    "* Using `.loc` (access by label - label location)\n",
    "* Using `.iloc` (access by integer position - integer location)\n",
    "\n",
    "\n",
    "__Note:__ You can also slice Pandas DataFrames with the `[]` notation you learned in _Python Basics_. However, this might lead in confusion, so it is suggested to use `.loc` and `.iloc` wherever possible."
   ]
  },
  {
   "cell_type": "code",
   "execution_count": null,
   "metadata": {},
   "outputs": [],
   "source": [
    "# Print dataset\n",
    "iris"
   ]
  },
  {
   "cell_type": "markdown",
   "metadata": {},
   "source": [
    "## 3. Selection by label\n",
    "\n",
    "### Using the `.loc` Property\n",
    "__Access a group of rows and columns by labels.__\n",
    "\n",
    "__Pros:__\n",
    "* Very powerful and flexible compared to the previous options.\n",
    "* Explicit and consistent syntax (clear to read).\n",
    "\n",
    "__Cons:__\n",
    "* A bit lengthy to write.\n",
    "\n",
    "<br>\n",
    "\n",
    "\n",
    "__Note:__ `.loc` is end-inclusive!\n",
    "\n",
    "__Syntax format:__\n",
    "* `frame.loc[ rows , columns ]`"
   ]
  },
  {
   "cell_type": "markdown",
   "metadata": {},
   "source": [
    "### Select Rows using `.loc`"
   ]
  },
  {
   "cell_type": "code",
   "execution_count": null,
   "metadata": {},
   "outputs": [],
   "source": [
    "# Select a particular row and all columns\n",
    "\n"
   ]
  },
  {
   "cell_type": "code",
   "execution_count": null,
   "metadata": {},
   "outputs": [],
   "source": [
    "# Select multiple rows and all columns\n",
    "\n"
   ]
  },
  {
   "cell_type": "code",
   "execution_count": null,
   "metadata": {},
   "outputs": [],
   "source": [
    "# Select a range of rows and all columns\n",
    "\n"
   ]
  },
  {
   "cell_type": "markdown",
   "metadata": {},
   "source": [
    "### Lazy alternative (not recommended!)\n",
    "\n",
    "<br>\n",
    "\n",
    "Below we do exactly the same thing, however we let Python assume that we mean \"all columns\".\n",
    "\n",
    "__Example:__ `iris.loc[ 4:7 ]`\n",
    "\n",
    "Python will assume that we mean: `iris.loc[ 4:7, : ]`\n",
    "\n",
    "\n",
    "<br>\n",
    "\n",
    "<b>Though remember Python's phylosophy:<br>\n",
    "    Explicit better than Implicit</b>"
   ]
  },
  {
   "cell_type": "code",
   "execution_count": null,
   "metadata": {},
   "outputs": [],
   "source": [
    "# Select a range rows (all columns implicitly)\n",
    "# Python will assume that we mean iris.loc[ 4:7, : ]\n",
    "\n"
   ]
  },
  {
   "cell_type": "markdown",
   "metadata": {},
   "source": [
    "---\n",
    "### Select Columns using `.loc`"
   ]
  },
  {
   "cell_type": "code",
   "execution_count": null,
   "metadata": {},
   "outputs": [],
   "source": [
    "# Select a column with all its rows\n",
    "\n"
   ]
  },
  {
   "cell_type": "code",
   "execution_count": null,
   "metadata": {},
   "outputs": [],
   "source": [
    "# Select multiple columns with all the rows\n",
    "\n"
   ]
  },
  {
   "cell_type": "code",
   "execution_count": null,
   "metadata": {},
   "outputs": [],
   "source": [
    "# Select range of columns with all the rows\n",
    "\n"
   ]
  },
  {
   "cell_type": "markdown",
   "metadata": {},
   "source": [
    "### Combine Row and Column Selection using `.loc`"
   ]
  },
  {
   "cell_type": "code",
   "execution_count": null,
   "metadata": {},
   "outputs": [],
   "source": [
    "# Select from range of rows and range of columns\n",
    "\n"
   ]
  },
  {
   "cell_type": "code",
   "execution_count": null,
   "metadata": {},
   "outputs": [],
   "source": [
    "# Select the value at the intersection of row and column\n",
    "\n"
   ]
  },
  {
   "cell_type": "markdown",
   "metadata": {},
   "source": [
    "---\n",
    "### Use `.loc` to Filter with Boolean Conditions\n",
    "__A sneak peek into Filtering.__ (Hopefully we will have time to see some filtering later)"
   ]
  },
  {
   "cell_type": "code",
   "execution_count": null,
   "metadata": {},
   "outputs": [],
   "source": [
    "# Select/filter the rows where 'sepallength' is greater than 7\n",
    "\n"
   ]
  },
  {
   "cell_type": "code",
   "execution_count": null,
   "metadata": {},
   "outputs": [],
   "source": [
    "# Let's dissect what we just did - print the mask used\n",
    "\n"
   ]
  },
  {
   "cell_type": "markdown",
   "metadata": {},
   "source": [
    "---\n",
    "## Using the `.iloc` Property\n",
    "__Access a group of rows and columns by integer position(s)*.__\n",
    "\n",
    "__*__ By __'integer positions'__ we mean the actual location of indices and column.\n",
    "\n",
    "__Pros:__\n",
    "* Also very flexible and powerful.\n",
    "* Also explicit and consistent syntax (clear to read).\n",
    "\n",
    "__Cons:__\n",
    "* Also lengthier than the first 2 options\n",
    "\n",
    "\n",
    "<br>\n",
    "\n",
    "__Note:__ `.iloc` is end-exclusive! (similar to the `[]` notation)\n",
    "\n",
    "__Syntax format:__\n",
    "* `frame.iloc[ rows , columns ]`"
   ]
  },
  {
   "cell_type": "code",
   "execution_count": null,
   "metadata": {},
   "outputs": [],
   "source": [
    "# Print dataset\n",
    "iris"
   ]
  },
  {
   "cell_type": "markdown",
   "metadata": {},
   "source": [
    "### Select Columns with `.iloc`"
   ]
  },
  {
   "cell_type": "code",
   "execution_count": null,
   "metadata": {},
   "outputs": [],
   "source": [
    "# Select all rows, from a column\n",
    "\n"
   ]
  },
  {
   "cell_type": "code",
   "execution_count": null,
   "metadata": {},
   "outputs": [],
   "source": [
    "# Select all rows, from a range of columns\n",
    "\n"
   ]
  },
  {
   "cell_type": "markdown",
   "metadata": {},
   "source": [
    "### Select Rows with `.iloc`"
   ]
  },
  {
   "cell_type": "code",
   "execution_count": null,
   "metadata": {},
   "outputs": [],
   "source": [
    "# Select a range of rows, all columns\n",
    "\n"
   ]
  },
  {
   "cell_type": "markdown",
   "metadata": {},
   "source": [
    "### Combine Row and Column Selection using `.iloc`"
   ]
  },
  {
   "cell_type": "code",
   "execution_count": null,
   "metadata": {},
   "outputs": [],
   "source": [
    "# Select from a specific row to the end\n",
    "\n"
   ]
  },
  {
   "cell_type": "code",
   "execution_count": null,
   "metadata": {},
   "outputs": [],
   "source": [
    "# Select multiple rows, and a range of columns\n",
    "\n"
   ]
  }
 ],
 "metadata": {
  "kernelspec": {
   "display_name": "Python 3 (ipykernel)",
   "language": "python",
   "name": "python3"
  },
  "language_info": {
   "codemirror_mode": {
    "name": "ipython",
    "version": 3
   },
   "file_extension": ".py",
   "mimetype": "text/x-python",
   "name": "python",
   "nbconvert_exporter": "python",
   "pygments_lexer": "ipython3",
   "version": "3.9.7"
  },
  "rise": {
   "enable_chalkboard": true
  }
 },
 "nbformat": 4,
 "nbformat_minor": 2
}
